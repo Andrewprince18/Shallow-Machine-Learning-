{
 "cells": [
  {
   "cell_type": "markdown",
   "metadata": {},
   "source": [
    "**共變異數矩陣的計算**"
   ]
  },
  {
   "cell_type": "code",
   "execution_count": null,
   "metadata": {},
   "outputs": [],
   "source": [
    "import numpy as np\n",
    "import matplotlib.pyplot as plt\n",
    "from sklearn.decomposition import PCA\n",
    "x1 = np.array([1, 2, 3, 4, 5])\n",
    "x2 = np.array([2, 1, 4, 5, 4]) \n",
    "X = np.c_[x1, x2] #資料矩陣\n",
    "# pca = PCA(n_components=1).fit(X) # 取 第 一 個 特 徵 向 量\n",
    "pca = PCA().fit(X) # 進行主成分分析 \n",
    "print(pca.explained_variance_ratio_) # 共 變 異 矩 陣 特 徵 值 佔 比 \n",
    "print(pca.explained_variance_) # 共 變 異 矩 陣 的 特 徵 值 \n",
    "print(pca.components_) #共變異矩陣的特徵向量\n",
    "eigvals = pca.explained_variance_\n",
    "eigvecs = pca.components_.T # by column [v1 v2]"
   ]
  }
 ],
 "metadata": {
  "kernelspec": {
   "display_name": "Python 3",
   "language": "python",
   "name": "python3"
  },
  "language_info": {
   "codemirror_mode": {
    "name": "ipython",
    "version": 3
   },
   "file_extension": ".py",
   "mimetype": "text/x-python",
   "name": "python",
   "nbconvert_exporter": "python",
   "pygments_lexer": "ipython3",
   "version": "3.11.5"
  }
 },
 "nbformat": 4,
 "nbformat_minor": 2
}
